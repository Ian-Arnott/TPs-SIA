{
 "cells": [
  {
   "cell_type": "code",
   "execution_count": 1,
   "metadata": {},
   "outputs": [
    {
     "data": {
      "text/plain": [
       "<matplotlib.collections.PathCollection at 0x146d56ee0>"
      ]
     },
     "execution_count": 1,
     "metadata": {},
     "output_type": "execute_result"
    },
    {
     "data": {
      "image/png": "[encoded data removed]",
      "text/plain": [
       "<Figure size 640x480 with 1 Axes>"
      ]
     },
     "metadata": {},
     "output_type": "display_data"
    }
   ],
   "source": [
    "import torch\n",
    "from torch import nn\n",
    "from torch import optim\n",
    "from torch.nn import functional as F\n",
    "import numpy as np\n",
    "import matplotlib.pyplot as plt\n",
    "\n",
    "%matplotlib inline\n",
    "x = np.linspace(0, 2 * np.pi, 10000)[..., None]\n",
    "y = np.sin(x)\n",
    "plt.scatter(x, y, s=1)\n"
   ]
  },
  {
   "cell_type": "code",
   "execution_count": 2,
   "metadata": {},
   "outputs": [],
   "source": [
    "class LambdaLayer(nn.Module):\n",
    "    def __init__(self, lambd):\n",
    "        super(LambdaLayer, self).__init__()\n",
    "        self.lambd = lambd\n",
    "        \n",
    "    def forward(self, x):\n",
    "        return self.lambd(x)\n",
    "\n",
    "class NormDistLayer(nn.Module):\n",
    "    def __init__(self, num_inputs, num_outputs):\n",
    "        super().__init__()\n",
    "        # Size of the output is double because it needs room for the media values and for the variance.\n",
    "        self.linear = nn.Linear(num_inputs, num_outputs*2)\n",
    "        self.num_outputs = num_outputs\n",
    "        \n",
    "        zeros = torch.zeros(num_outputs)\n",
    "        ones = torch.ones(num_outputs)\n",
    "        self.normal_dist = torch.distributions.Normal(zeros, ones)\n",
    "    \n",
    "    def forward(self, X):\n",
    "        outputs = self.linear(X)\n",
    "        scale = outputs[..., :self.num_outputs]\n",
    "        location = outputs[..., self.num_outputs:]\n",
    "        \n",
    "        samples = self.normal_dist.sample()\n",
    "        return samples * scale + location\n",
    "    "
   ]
  },
  {
   "cell_type": "code",
   "execution_count": 3,
   "metadata": {},
   "outputs": [],
   "source": [
    "model = nn.Sequential(\n",
    "    NormDistLayer(1, 100),\n",
    "    LambdaLayer(lambda X: X * torch.tanh(X)), # Mish activation\n",
    "    NormDistLayer(100, 100),\n",
    "    LambdaLayer(lambda X: X * torch.tanh(X)), # Mish activation\n",
    "    NormDistLayer(100, 1)\n",
    ")\n",
    "opt = optim.Adam(model.parameters(), lr=0.0001)\n",
    "\n",
    "X = torch.from_numpy(x).float()\n",
    "Y = torch.from_numpy(y).float()"
   ]
  },
  {
   "cell_type": "code",
   "execution_count": 17,
   "metadata": {},
   "outputs": [
    {
     "name": "stdout",
     "output_type": "stream",
     "text": [
      "tensor([[ 0.1057, -0.7206,  0.9749,  ..., -0.5749,  0.4308,  0.8417],\n",
      "        [ 0.1054, -0.7201,  0.9755,  ..., -0.5750,  0.4314,  0.8422],\n",
      "        [ 0.1050, -0.7197,  0.9761,  ..., -0.5751,  0.4319,  0.8427],\n",
      "        ...,\n",
      "        [-3.4154,  3.8189,  7.1149,  ..., -1.6593,  6.0984,  5.7829],\n",
      "        [-3.4158,  3.8194,  7.1155,  ..., -1.6595,  6.0989,  5.7833],\n",
      "        [-3.4161,  3.8198,  7.1161,  ..., -1.6596,  6.0995,  5.7838]],\n",
      "       grad_fn=<SliceBackward0>)\n"
     ]
    }
   ],
   "source": [
    "\n",
    "linear = nn.Linear(1, 200)\n",
    "\n",
    "zeros = torch.zeros(100)\n",
    "ones = torch.ones(100)\n",
    "normal_dist = torch.distributions.Normal(zeros, ones)\n",
    "\n",
    "samples = normal_dist.sample()\n",
    "\n",
    "outputs = linear(X)\n",
    "scale = outputs[..., :100]\n",
    "location = outputs[..., 100:]\n",
    "print((outputs))\n",
    "samples = normal_dist.sample()\n",
    "# print(samples * scale + location)\n"
   ]
  }
 ],
 "metadata": {
  "kernelspec": {
   "display_name": "Python 3",
   "language": "python",
   "name": "python3"
  },
  "language_info": {
   "codemirror_mode": {
    "name": "ipython",
    "version": 3
   },
   "file_extension": ".py",
   "mimetype": "text/x-python",
   "name": "python",
   "nbconvert_exporter": "python",
   "pygments_lexer": "ipython3",
   "version": "3.9.6"
  }
 },
 "nbformat": 4,
 "nbformat_minor": 2
}

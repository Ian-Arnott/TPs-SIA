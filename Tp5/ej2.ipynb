{
 "cells": [
  {
   "cell_type": "code",
   "execution_count": 1,
   "metadata": {},
   "outputs": [],
   "source": [
    "from mlp import train, Dense, Sampler, predict_with_layer_value, predict\n",
    "from activation_functions import Sigmoid, Mish, Identity\n",
    "from mse import mse, mse_derivative\n",
    "from utils import fonts_to_bitmap, bitmap_as_matrix, get_config_params, add_noise_to_dataset\n",
    "from data.font import fontDict\n",
    "import numpy as np\n",
    "import matplotlib.pyplot as plt"
   ]
  },
  {
   "cell_type": "code",
   "execution_count": 2,
   "metadata": {},
   "outputs": [],
   "source": [
    "learning_rate, max_epochs, bias, beta1, beta2, epsilon, optimizer, activation = get_config_params('./linear_ae.json')\n",
    "\n",
    "mse_list = []"
   ]
  },
  {
   "cell_type": "code",
   "execution_count": 3,
   "metadata": {},
   "outputs": [],
   "source": [
    "bitmapDict = fonts_to_bitmap(fontDict)\n",
    "bitmapList = list(bitmapDict.values())  \n",
    "X = np.reshape(bitmapList,(len(bitmapList), 35, 1))"
   ]
  },
  {
   "cell_type": "code",
   "execution_count": 4,
   "metadata": {},
   "outputs": [],
   "source": [
    "# El espacio latente es la salida de la \"capa 6\"\n",
    "autoencoder = [\n",
    "    Dense(35, 20, optimizer_type=optimizer, learning_rate=learning_rate),\n",
    "    Sigmoid(),\n",
    "    Dense(20, 10, optimizer_type=optimizer, learning_rate=learning_rate),\n",
    "    Sigmoid(),\n",
    "    Sampler(10,2,optimizer_type=optimizer, learning_rate=learning_rate, activation=Identity()),\n",
    "    Dense(2, 10, optimizer_type=optimizer, learning_rate=learning_rate),\n",
    "    Sigmoid(),\n",
    "    Dense(10, 20, optimizer_type=optimizer, learning_rate=learning_rate),\n",
    "    Sigmoid(),\n",
    "    Dense(20, 35, optimizer_type=optimizer, learning_rate=learning_rate),\n",
    "    Sigmoid(),\n",
    "]\n",
    "error = train(autoencoder, mse, mse_derivative, X, X, epochs=max_epochs, verbose=False)"
   ]
  }
 ],
 "metadata": {
  "kernelspec": {
   "display_name": "Python 3",
   "language": "python",
   "name": "python3"
  },
  "language_info": {
   "codemirror_mode": {
    "name": "ipython",
    "version": 3
   },
   "file_extension": ".py",
   "mimetype": "text/x-python",
   "name": "python",
   "nbconvert_exporter": "python",
   "pygments_lexer": "ipython3",
   "version": "3.9.6"
  }
 },
 "nbformat": 4,
 "nbformat_minor": 2
}

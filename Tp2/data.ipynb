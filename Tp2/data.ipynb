{
 "cells": [
  {
   "cell_type": "code",
   "execution_count": 33,
   "metadata": {},
   "outputs": [],
   "source": [
    "from main import run_main\n",
    "import json\n",
    "import pandas as pd\n",
    "import time"
   ]
  },
  {
   "cell_type": "code",
   "execution_count": 34,
   "metadata": {},
   "outputs": [],
   "source": [
    "CROSSOVER_METHODS = [\"one_point\", \"double_point\", \"uniform\", \"anular\"]\n",
    "SELECTION_METHODS = [\"elite\", \"roulette\", \"universal\", \"boltzmann\", \"deterministic_tournament\", \"probabilistic_tournament\", \"ranking\"]\n",
    "MUTATION_METHODS = [\"gene_mutation\",\"uniform_multigen\", \"complete_mutation\", \"limited_multigen\"]\n",
    "GENES = [\"items\", \"class\", \"height\"]\n",
    "NEW_GENERATION_METHODS = [\"use_all\", \"new_over_actual\"]\n",
    "CHARACTER_TYPES = [\"warrior\", \"archer\", \"defender\", \"infiltrator\"]"
   ]
  },
  {
   "cell_type": "code",
   "execution_count": 35,
   "metadata": {},
   "outputs": [],
   "source": [
    "with open('./config.json', 'r') as f:\n",
    "        config = json.load(f)"
   ]
  },
  {
   "cell_type": "code",
   "execution_count": 36,
   "metadata": {},
   "outputs": [
    {
     "name": "stdout",
     "output_type": "stream",
     "text": [
      "Completion: 58.78% ETA: 127.26s"
     ]
    },
    {
     "ename": "KeyboardInterrupt",
     "evalue": "",
     "output_type": "error",
     "traceback": [
      "\u001b[1;31m---------------------------------------------------------------------------\u001b[0m",
      "\u001b[1;31mKeyboardInterrupt\u001b[0m                         Traceback (most recent call last)",
      "Cell \u001b[1;32mIn[36], line 27\u001b[0m\n\u001b[0;32m     25\u001b[0m config[\u001b[39m\"\u001b[39m\u001b[39mselection_method_4\u001b[39m\u001b[39m\"\u001b[39m] \u001b[39m=\u001b[39m sel1\n\u001b[0;32m     26\u001b[0m \u001b[39mtry\u001b[39;00m:\n\u001b[1;32m---> 27\u001b[0m     df\u001b[39m.\u001b[39mappend((run_main(config), config))\n\u001b[0;32m     28\u001b[0m \u001b[39mexcept\u001b[39;00m \u001b[39mOverflowError\u001b[39;00m:\n\u001b[0;32m     29\u001b[0m     \u001b[39mprint\u001b[39m(config)\n",
      "File \u001b[1;32mc:\\Users\\juana\\Documents\\ITBA\\sia\\TPs-SIA\\Tp2\\main.py:122\u001b[0m, in \u001b[0;36mrun_main\u001b[1;34m(config)\u001b[0m\n\u001b[0;32m    118\u001b[0m parents_and_children \u001b[39m=\u001b[39m previous_population \u001b[39m+\u001b[39m children\n\u001b[0;32m    121\u001b[0m method3_selection \u001b[39m=\u001b[39m select(selection_method_3, parents_and_children, n \u001b[39m+\u001b[39m k, method3_count, m, threshold, generation)\n\u001b[1;32m--> 122\u001b[0m method4_selection \u001b[39m=\u001b[39m select(selection_method_4, parents_and_children, n \u001b[39m+\u001b[39;49m k, method4_count, m, threshold, generation)\n\u001b[0;32m    123\u001b[0m \u001b[39m# El array final deberia tener nuevamente n individuos despues del reemplazo\u001b[39;00m\n\u001b[0;32m    125\u001b[0m previous_population \u001b[39m=\u001b[39m method3_selection \u001b[39m+\u001b[39m method4_selection\n",
      "File \u001b[1;32mc:\\Users\\juana\\Documents\\ITBA\\sia\\TPs-SIA\\Tp2\\genetic.py:28\u001b[0m, in \u001b[0;36mselect\u001b[1;34m(method, population, n, k, m, thr, generation)\u001b[0m\n\u001b[0;32m     26\u001b[0m     \u001b[39mreturn\u001b[39;00m roulette(population, n, k)\n\u001b[0;32m     27\u001b[0m \u001b[39mif\u001b[39;00m method \u001b[39m==\u001b[39m \u001b[39m\"\u001b[39m\u001b[39muniversal\u001b[39m\u001b[39m\"\u001b[39m:\n\u001b[1;32m---> 28\u001b[0m     \u001b[39mreturn\u001b[39;00m universal(population, n, k)\n\u001b[0;32m     29\u001b[0m \u001b[39mif\u001b[39;00m method \u001b[39m==\u001b[39m \u001b[39m\"\u001b[39m\u001b[39mranking\u001b[39m\u001b[39m\"\u001b[39m:\n\u001b[0;32m     30\u001b[0m    \u001b[39mreturn\u001b[39;00m ranking(population, n, k)\n",
      "File \u001b[1;32mc:\\Users\\juana\\Documents\\ITBA\\sia\\TPs-SIA\\Tp2\\selection.py:83\u001b[0m, in \u001b[0;36muniversal\u001b[1;34m(population, n, k)\u001b[0m\n\u001b[0;32m     80\u001b[0m relative_fitness \u001b[39m=\u001b[39m [character\u001b[39m.\u001b[39mget_performance() \u001b[39m/\u001b[39m total_fitness \u001b[39mfor\u001b[39;00m character \u001b[39min\u001b[39;00m population]\n\u001b[0;32m     82\u001b[0m \u001b[39m# Calculate cumulative relative fitness q_i\u001b[39;00m\n\u001b[1;32m---> 83\u001b[0m cumulative_fitness \u001b[39m=\u001b[39m [\u001b[39msum\u001b[39;49m(relative_fitness[:i\u001b[39m+\u001b[39;49m\u001b[39m1\u001b[39;49m]) \u001b[39mfor\u001b[39;49;00m i \u001b[39min\u001b[39;49;00m \u001b[39mrange\u001b[39;49m(\u001b[39mlen\u001b[39;49m(relative_fitness))]\n\u001b[0;32m     85\u001b[0m \u001b[39m# Find the index i where q_i-1 < r_j <= q_i\u001b[39;00m\n\u001b[0;32m     86\u001b[0m \u001b[39mfor\u001b[39;00m i, q_i \u001b[39min\u001b[39;00m \u001b[39menumerate\u001b[39m(cumulative_fitness):\n",
      "File \u001b[1;32mc:\\Users\\juana\\Documents\\ITBA\\sia\\TPs-SIA\\Tp2\\selection.py:83\u001b[0m, in \u001b[0;36m<listcomp>\u001b[1;34m(.0)\u001b[0m\n\u001b[0;32m     80\u001b[0m relative_fitness \u001b[39m=\u001b[39m [character\u001b[39m.\u001b[39mget_performance() \u001b[39m/\u001b[39m total_fitness \u001b[39mfor\u001b[39;00m character \u001b[39min\u001b[39;00m population]\n\u001b[0;32m     82\u001b[0m \u001b[39m# Calculate cumulative relative fitness q_i\u001b[39;00m\n\u001b[1;32m---> 83\u001b[0m cumulative_fitness \u001b[39m=\u001b[39m [\u001b[39msum\u001b[39m(relative_fitness[:i\u001b[39m+\u001b[39m\u001b[39m1\u001b[39m]) \u001b[39mfor\u001b[39;00m i \u001b[39min\u001b[39;00m \u001b[39mrange\u001b[39m(\u001b[39mlen\u001b[39m(relative_fitness))]\n\u001b[0;32m     85\u001b[0m \u001b[39m# Find the index i where q_i-1 < r_j <= q_i\u001b[39;00m\n\u001b[0;32m     86\u001b[0m \u001b[39mfor\u001b[39;00m i, q_i \u001b[39min\u001b[39;00m \u001b[39menumerate\u001b[39m(cumulative_fitness):\n",
      "\u001b[1;31mKeyboardInterrupt\u001b[0m: "
     ]
    }
   ],
   "source": [
    "\n",
    "\n",
    "totalIterations = (len(CROSSOVER_METHODS) * len(SELECTION_METHODS) * \n",
    "                   len(MUTATION_METHODS) * len(GENES) * len(NEW_GENERATION_METHODS) * \n",
    "                   len(CHARACTER_TYPES) * 5)\n",
    "\n",
    "currentIteration = 0\n",
    "startTime = time.time()\n",
    "\n",
    "df = []\n",
    "\n",
    "for cross in CROSSOVER_METHODS:\n",
    "    for sel1 in SELECTION_METHODS:\n",
    "        for mut in MUTATION_METHODS:\n",
    "            for gen in GENES:\n",
    "                for new_gen in NEW_GENERATION_METHODS:\n",
    "                    for clase in CHARACTER_TYPES:\n",
    "                        for _ in range(10):\n",
    "                            config[\"character_type\"] = clase\n",
    "                            config[\"crossing_method\"] = cross\n",
    "                            config[\"gene\"] = gen\n",
    "                            config[\"mutation_method\"] = mut\n",
    "                            config[\"new_generation_method\"] = new_gen\n",
    "                            config[\"selection_method_1\"] = sel1\n",
    "                            config[\"selection_method_2\"] = sel1\n",
    "                            config[\"selection_method_3\"] = sel1\n",
    "                            config[\"selection_method_4\"] = sel1\n",
    "                            try:\n",
    "                                df.append((run_main(config), config))\n",
    "                            except OverflowError:\n",
    "                                print(config)\n",
    "\n",
    "                            currentIteration += 1\n",
    "                            \n",
    "                            if currentIteration % 100 == 0:  # Actualizar cada 100 iteraciones\n",
    "                                elapsedTime = time.time() - startTime\n",
    "                                estimatedRemainingTime = (totalIterations - currentIteration) * (elapsedTime / currentIteration)\n",
    "                                percentageCompletion = (currentIteration / totalIterations) * 100\n",
    "                                print(f\"\\rCompletion: {percentageCompletion:.2f}% ETA: {estimatedRemainingTime:.2f}s\", end=\"\")"
   ]
  },
  {
   "cell_type": "code",
   "execution_count": null,
   "metadata": {},
   "outputs": [
    {
     "data": {
      "text/plain": [
       "26880"
      ]
     },
     "execution_count": 28,
     "metadata": {},
     "output_type": "execute_result"
    }
   ],
   "source": [
    "totalIterations = (len(CROSSOVER_METHODS) * len(SELECTION_METHODS) * \n",
    "                   len(MUTATION_METHODS) * len(GENES) * len(NEW_GENERATION_METHODS) * \n",
    "                   len(CHARACTER_TYPES) * 10)\n",
    "totalIterations"
   ]
  },
  {
   "cell_type": "code",
   "execution_count": null,
   "metadata": {},
   "outputs": [],
   "source": [
    "df2 = [{**{\"strength\": char[0]._items[\"strength\"],\n",
    "           \"agility\": char[0]._items[\"agility\"],\n",
    "           \"expertise\": char[0]._items[\"expertise\"],\n",
    "           \"endurance\": char[0]._items[\"endurance\"],\n",
    "           \"health\": char[0]._items[\"health\"],\n",
    "           \"height\": char[0]._height,\n",
    "           \"performance\": char[0].get_performance(),\n",
    "           \"generation\": char[1]},\n",
    "        **config}\n",
    "       for char, config in df]\n",
    "\n",
    "df2 = pd.DataFrame(df2)\n",
    "df2"
   ]
  },
  {
   "cell_type": "code",
   "execution_count": null,
   "metadata": {},
   "outputs": [],
   "source": []
  }
 ],
 "metadata": {
  "kernelspec": {
   "display_name": "Python 3",
   "language": "python",
   "name": "python3"
  },
  "language_info": {
   "codemirror_mode": {
    "name": "ipython",
    "version": 3
   },
   "file_extension": ".py",
   "mimetype": "text/x-python",
   "name": "python",
   "nbconvert_exporter": "python",
   "pygments_lexer": "ipython3",
   "version": "3.11.2"
  },
  "orig_nbformat": 4
 },
 "nbformat": 4,
 "nbformat_minor": 2
}

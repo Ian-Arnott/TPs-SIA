{
 "cells": [
  {
   "cell_type": "code",
   "execution_count": 1,
   "metadata": {},
   "outputs": [],
   "source": [
    "from main import run_main\n",
    "import json"
   ]
  },
  {
   "cell_type": "code",
   "execution_count": 2,
   "metadata": {},
   "outputs": [],
   "source": [
    "CROSSOVER_METHODS = [\"one_point\", \"double_point\", \"uniform\", \"anular\"]\n",
    "SELECTION_METHODS = [\"elite\", \"roulette\", \"universal\", \"deterministic_tournament\", \"probabilistic_tournament\", \"ranking\"] #borramos Boltzman\n",
    "MUTATION_METHODS = [\"gene_mutation\",\"uniform_multigen\", \"complete_mutation\", \"limited_multigen\"]\n",
    "GENES = [\"items\", \"class\", \"height\"]\n",
    "NEW_GENERATION_METHODS = [\"use_all\", \"new_over_actual\"]\n",
    "CHARACTER_TYPES = [\"warrior\", \"archer\", \"defender\", \"infiltrator\"]"
   ]
  },
  {
   "cell_type": "code",
   "execution_count": 3,
   "metadata": {},
   "outputs": [],
   "source": [
    "with open('./config.json', 'r') as f:\n",
    "        config = json.load(f)"
   ]
  },
  {
   "cell_type": "code",
   "execution_count": 4,
   "metadata": {},
   "outputs": [
    {
     "name": "stdout",
     "output_type": "stream",
     "text": [
      "Completion: 1.50%"
     ]
    },
    {
     "ename": "KeyboardInterrupt",
     "evalue": "",
     "output_type": "error",
     "traceback": [
      "\u001b[1;31m---------------------------------------------------------------------------\u001b[0m",
      "\u001b[1;31mKeyboardInterrupt\u001b[0m                         Traceback (most recent call last)",
      "Cell \u001b[1;32mIn[4], line 29\u001b[0m\n\u001b[0;32m     27\u001b[0m config[\u001b[39m\"\u001b[39m\u001b[39mselection_method_4\u001b[39m\u001b[39m\"\u001b[39m] \u001b[39m=\u001b[39m sel4\n\u001b[0;32m     28\u001b[0m \u001b[39mtry\u001b[39;00m:\n\u001b[1;32m---> 29\u001b[0m     df\u001b[39m.\u001b[39mappend(run_main(config))\n\u001b[0;32m     30\u001b[0m \u001b[39mexcept\u001b[39;00m \u001b[39mOverflowError\u001b[39;00m:\n\u001b[0;32m     31\u001b[0m     \u001b[39mprint\u001b[39m(config)\n",
      "File \u001b[1;32mc:\\Users\\juana\\Documents\\ITBA\\sia\\TPs-SIA\\Tp2\\main.py:92\u001b[0m, in \u001b[0;36mrun_main\u001b[1;34m(config)\u001b[0m\n\u001b[0;32m     87\u001b[0m n, k, m, threshold, character_type, crossover_method, selection_method_1, selection_method_2, \\\n\u001b[0;32m     88\u001b[0m     selection_method_3, selection_method_4, mutation_method, new_generation_method, gene, \\\n\u001b[0;32m     89\u001b[0m         A, B, p_m, max_generations, max_generations_without_change, delta \u001b[39m=\u001b[39m get_config_params(config)\n\u001b[0;32m     91\u001b[0m \u001b[39m# 1. Generate start population\u001b[39;00m\n\u001b[1;32m---> 92\u001b[0m start_population \u001b[39m=\u001b[39m generate_start_population(n, character_type)\n\u001b[0;32m     93\u001b[0m end \u001b[39m=\u001b[39m \u001b[39mFalse\u001b[39;00m\n\u001b[0;32m     94\u001b[0m end_condition \u001b[39m=\u001b[39m \u001b[39mNone\u001b[39;00m\n",
      "File \u001b[1;32mc:\\Users\\juana\\Documents\\ITBA\\sia\\TPs-SIA\\Tp2\\genetic.py:17\u001b[0m, in \u001b[0;36mgenerate_start_population\u001b[1;34m(N, character_type)\u001b[0m\n\u001b[0;32m     14\u001b[0m \u001b[39mif\u001b[39;00m character_type \u001b[39mnot\u001b[39;00m \u001b[39min\u001b[39;00m character_classes:\n\u001b[0;32m     15\u001b[0m     \u001b[39mraise\u001b[39;00m \u001b[39mValueError\u001b[39;00m(\u001b[39mf\u001b[39m\u001b[39m\"\u001b[39m\u001b[39mInvalid character_type: \u001b[39m\u001b[39m{\u001b[39;00mcharacter_type\u001b[39m}\u001b[39;00m\u001b[39m\"\u001b[39m)\n\u001b[1;32m---> 17\u001b[0m population \u001b[39m=\u001b[39m [Character(character_classes[character_type]) \u001b[39mfor\u001b[39;49;00m _ \u001b[39min\u001b[39;49;00m \u001b[39mrange\u001b[39;49m(N)]\n\u001b[0;32m     19\u001b[0m \u001b[39mreturn\u001b[39;00m population\n",
      "File \u001b[1;32mc:\\Users\\juana\\Documents\\ITBA\\sia\\TPs-SIA\\Tp2\\genetic.py:17\u001b[0m, in \u001b[0;36m<listcomp>\u001b[1;34m(.0)\u001b[0m\n\u001b[0;32m     14\u001b[0m \u001b[39mif\u001b[39;00m character_type \u001b[39mnot\u001b[39;00m \u001b[39min\u001b[39;00m character_classes:\n\u001b[0;32m     15\u001b[0m     \u001b[39mraise\u001b[39;00m \u001b[39mValueError\u001b[39;00m(\u001b[39mf\u001b[39m\u001b[39m\"\u001b[39m\u001b[39mInvalid character_type: \u001b[39m\u001b[39m{\u001b[39;00mcharacter_type\u001b[39m}\u001b[39;00m\u001b[39m\"\u001b[39m)\n\u001b[1;32m---> 17\u001b[0m population \u001b[39m=\u001b[39m [Character(character_classes[character_type]) \u001b[39mfor\u001b[39;00m _ \u001b[39min\u001b[39;00m \u001b[39mrange\u001b[39m(N)]\n\u001b[0;32m     19\u001b[0m \u001b[39mreturn\u001b[39;00m population\n",
      "File \u001b[1;32mc:\\Users\\juana\\Documents\\ITBA\\sia\\TPs-SIA\\Tp2\\character.py:11\u001b[0m, in \u001b[0;36mCharacter.__init__\u001b[1;34m(self, character_class, items, height)\u001b[0m\n\u001b[0;32m      8\u001b[0m \u001b[39m\u001b[39m\u001b[39m\"\"\" Initializes the character. If items and height is not provided, generates them\"\"\"\u001b[39;00m\n\u001b[0;32m     10\u001b[0m \u001b[39mif\u001b[39;00m items \u001b[39mis\u001b[39;00m \u001b[39mNone\u001b[39;00m \u001b[39mand\u001b[39;00m height \u001b[39mis\u001b[39;00m \u001b[39mNone\u001b[39;00m:\n\u001b[1;32m---> 11\u001b[0m     \u001b[39mself\u001b[39m\u001b[39m.\u001b[39m_items \u001b[39m=\u001b[39m Character\u001b[39m.\u001b[39;49m_pick_items()\n\u001b[0;32m     12\u001b[0m     \u001b[39mself\u001b[39m\u001b[39m.\u001b[39m_stats \u001b[39m=\u001b[39m \u001b[39mself\u001b[39m\u001b[39m.\u001b[39m_calculate_stats()\n\u001b[0;32m     13\u001b[0m     \u001b[39mself\u001b[39m\u001b[39m.\u001b[39m_height \u001b[39m=\u001b[39m Character\u001b[39m.\u001b[39m_calculate_height()\n",
      "File \u001b[1;32mc:\\Users\\juana\\Documents\\ITBA\\sia\\TPs-SIA\\Tp2\\character.py:116\u001b[0m, in \u001b[0;36mCharacter._pick_items\u001b[1;34m()\u001b[0m\n\u001b[0;32m    113\u001b[0m values \u001b[39m=\u001b[39m [\u001b[39m0\u001b[39m] \u001b[39m*\u001b[39m \u001b[39mlen\u001b[39m(items)\n\u001b[0;32m    115\u001b[0m \u001b[39mfor\u001b[39;00m _ \u001b[39min\u001b[39;00m \u001b[39mrange\u001b[39m (\u001b[39m150\u001b[39m):\n\u001b[1;32m--> 116\u001b[0m     randomIndex \u001b[39m=\u001b[39m random\u001b[39m.\u001b[39;49mrandint(\u001b[39m0\u001b[39;49m, \u001b[39m4\u001b[39;49m)\n\u001b[0;32m    117\u001b[0m     values[randomIndex] \u001b[39m+\u001b[39m\u001b[39m=\u001b[39m \u001b[39m1\u001b[39m\n\u001b[0;32m    119\u001b[0m \u001b[39mfor\u001b[39;00m item \u001b[39min\u001b[39;00m items:\n",
      "File \u001b[1;32mc:\\Users\\juana\\AppData\\Local\\Programs\\Python\\Python311\\Lib\\random.py:362\u001b[0m, in \u001b[0;36mRandom.randint\u001b[1;34m(self, a, b)\u001b[0m\n\u001b[0;32m    358\u001b[0m \u001b[39mdef\u001b[39;00m \u001b[39mrandint\u001b[39m(\u001b[39mself\u001b[39m, a, b):\n\u001b[0;32m    359\u001b[0m \u001b[39m    \u001b[39m\u001b[39m\"\"\"Return random integer in range [a, b], including both end points.\u001b[39;00m\n\u001b[0;32m    360\u001b[0m \u001b[39m    \"\"\"\u001b[39;00m\n\u001b[1;32m--> 362\u001b[0m     \u001b[39mreturn\u001b[39;00m \u001b[39mself\u001b[39;49m\u001b[39m.\u001b[39;49mrandrange(a, b\u001b[39m+\u001b[39;49m\u001b[39m1\u001b[39;49m)\n",
      "File \u001b[1;32mc:\\Users\\juana\\AppData\\Local\\Programs\\Python\\Python311\\Lib\\random.py:344\u001b[0m, in \u001b[0;36mRandom.randrange\u001b[1;34m(self, start, stop, step)\u001b[0m\n\u001b[0;32m    342\u001b[0m \u001b[39mif\u001b[39;00m istep \u001b[39m==\u001b[39m \u001b[39m1\u001b[39m:\n\u001b[0;32m    343\u001b[0m     \u001b[39mif\u001b[39;00m width \u001b[39m>\u001b[39m \u001b[39m0\u001b[39m:\n\u001b[1;32m--> 344\u001b[0m         \u001b[39mreturn\u001b[39;00m istart \u001b[39m+\u001b[39m \u001b[39mself\u001b[39;49m\u001b[39m.\u001b[39;49m_randbelow(width)\n\u001b[0;32m    345\u001b[0m     \u001b[39mraise\u001b[39;00m \u001b[39mValueError\u001b[39;00m(\u001b[39m\"\u001b[39m\u001b[39mempty range for randrange() (\u001b[39m\u001b[39m%d\u001b[39;00m\u001b[39m, \u001b[39m\u001b[39m%d\u001b[39;00m\u001b[39m, \u001b[39m\u001b[39m%d\u001b[39;00m\u001b[39m)\u001b[39m\u001b[39m\"\u001b[39m \u001b[39m%\u001b[39m (istart, istop, width))\n\u001b[0;32m    347\u001b[0m \u001b[39m# Non-unit step argument supplied.\u001b[39;00m\n",
      "File \u001b[1;32mc:\\Users\\juana\\AppData\\Local\\Programs\\Python\\Python311\\Lib\\random.py:239\u001b[0m, in \u001b[0;36mRandom._randbelow_with_getrandbits\u001b[1;34m(self, n)\u001b[0m\n\u001b[0;32m    236\u001b[0m \u001b[39m\"\u001b[39m\u001b[39mReturn a random int in the range [0,n).  Defined for n > 0.\u001b[39m\u001b[39m\"\u001b[39m\n\u001b[0;32m    238\u001b[0m getrandbits \u001b[39m=\u001b[39m \u001b[39mself\u001b[39m\u001b[39m.\u001b[39mgetrandbits\n\u001b[1;32m--> 239\u001b[0m k \u001b[39m=\u001b[39m n\u001b[39m.\u001b[39mbit_length()  \u001b[39m# don't use (n-1) here because n can be 1\u001b[39;00m\n\u001b[0;32m    240\u001b[0m r \u001b[39m=\u001b[39m getrandbits(k)  \u001b[39m# 0 <= r < 2**k\u001b[39;00m\n\u001b[0;32m    241\u001b[0m \u001b[39mwhile\u001b[39;00m r \u001b[39m>\u001b[39m\u001b[39m=\u001b[39m n:\n",
      "\u001b[1;31mKeyboardInterrupt\u001b[0m: "
     ]
    }
   ],
   "source": [
    "totalIterations = (len(CROSSOVER_METHODS) * len(SELECTION_METHODS)**4 * \n",
    "                   len(MUTATION_METHODS) * len(GENES) * len(NEW_GENERATION_METHODS) * \n",
    "                   len(CHARACTER_TYPES))\n",
    "\n",
    "currentIteration = 0\n",
    "\n",
    "df = []\n",
    "\n",
    "for cross in CROSSOVER_METHODS:\n",
    "    for sel1 in SELECTION_METHODS:\n",
    "        for sel2 in SELECTION_METHODS:\n",
    "            for sel3 in SELECTION_METHODS:\n",
    "                for sel4 in SELECTION_METHODS:\n",
    "                    for mut in MUTATION_METHODS:\n",
    "                        for gen in GENES:\n",
    "                            for new_gen in NEW_GENERATION_METHODS:\n",
    "                                for clase in CHARACTER_TYPES:\n",
    "                                    \n",
    "                                    config[\"character_type\"] = clase\n",
    "                                    config[\"crossing_method\"] = cross\n",
    "                                    config[\"gene\"] = gen\n",
    "                                    config[\"mutation_method\"] = mut\n",
    "                                    config[\"new_generation_method\"] = new_gen\n",
    "                                    config[\"selection_method_1\"] = sel1\n",
    "                                    config[\"selection_method_2\"] = sel2\n",
    "                                    config[\"selection_method_3\"] = sel3\n",
    "                                    config[\"selection_method_4\"] = sel4\n",
    "                                    try:\n",
    "                                        df.append(run_main(config))\n",
    "                                    except OverflowError:\n",
    "                                        print(config)\n",
    "\n",
    "                                    currentIteration += 1\n",
    "                                    percentageCompletion = (currentIteration / totalIterations) * 100\n",
    "                                    print(f\"\\rCompletion: {percentageCompletion:.2f}%\", end=\"\")"
   ]
  },
  {
   "cell_type": "code",
   "execution_count": null,
   "metadata": {},
   "outputs": [],
   "source": [
    "df"
   ]
  }
 ],
 "metadata": {
  "kernelspec": {
   "display_name": "Python 3",
   "language": "python",
   "name": "python3"
  },
  "language_info": {
   "codemirror_mode": {
    "name": "ipython",
    "version": 3
   },
   "file_extension": ".py",
   "mimetype": "text/x-python",
   "name": "python",
   "nbconvert_exporter": "python",
   "pygments_lexer": "ipython3",
   "version": "3.11.2"
  },
  "orig_nbformat": 4
 },
 "nbformat": 4,
 "nbformat_minor": 2
}

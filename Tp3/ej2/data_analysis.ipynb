{
 "cells": [
  {
   "cell_type": "markdown",
   "metadata": {},
   "source": [
    "### Imports"
   ]
  },
  {
   "cell_type": "code",
   "execution_count": null,
   "metadata": {},
   "outputs": [],
   "source": [
    "import pandas as pd\n",
    "from copy import copy\n",
    "import matplotlib.pyplot as plt\n",
    "from main import run_main"
   ]
  },
  {
   "cell_type": "markdown",
   "metadata": {},
   "source": [
    "### Configuraciones"
   ]
  },
  {
   "cell_type": "code",
   "execution_count": null,
   "metadata": {},
   "outputs": [],
   "source": [
    "PERCEPTRON_TYPES = [\"LINEAR\", \"HIPERBOLIC\", \"LOGISTIC\"]"
   ]
  },
  {
   "cell_type": "code",
   "execution_count": null,
   "metadata": {},
   "outputs": [],
   "source": [
    "config = {\n",
    "    \"perceptron_type\": \"LINEAR\",\n",
    "    \"learning_rate\": 0.001,\n",
    "    \"training_percentage\": 0.8,\n",
    "    \"max_epochs\": 1000,\n",
    "    \"bias\": 1,\n",
    "    \"beta\": 1,\n",
    "    \"epsilon\": 2\n",
    "}"
   ]
  },
  {
   "cell_type": "markdown",
   "metadata": {},
   "source": [
    "### Set de gráficos 1\n",
    "\n",
    "Primero, analizar que pasa variando el learning_rate (1, 0.1, 0.001, 0.0001) para los diferentes tipos de perceptrones.\n",
    "\n",
    "Para ello, graficamos el error en función de la cantidad de épocas para cada configuración.\n"
   ]
  },
  {
   "cell_type": "code",
   "execution_count": null,
   "metadata": {},
   "outputs": [],
   "source": [
    "repeats = 10\n",
    "\n",
    "result_list = []\n",
    "\n",
    "for perceptron_type in PERCEPTRON_TYPES:\n",
    "    configCopy = copy(config)\n",
    "    configCopy[\"perceptron_type\"] = perceptron_type\n",
    "\n",
    "    for learning_rate in [0.001, 0.01, 0.1, 0.5, 1]:\n",
    "        configCopy[\"learning_rate\"] = learning_rate\n",
    "       \n",
    "        for run in range(1, repeats+1):\n",
    "            print(\"Running perceptron type: \" + perceptron_type + \" run: \" + str(run + 1))\n",
    "            mse, epochs = run_main(configCopy)\n",
    "            result_list.append({\n",
    "                \"perceptron_type\": perceptron_type,\n",
    "                \"learning_rate\": learning_rate,\n",
    "                \"mse\": mse,\n",
    "                \"epochs\": epochs\n",
    "            })\n",
    "\n",
    "df = pd.DataFrame(result_list)"
   ]
  },
  {
   "cell_type": "code",
   "execution_count": null,
   "metadata": {},
   "outputs": [],
   "source": [
    "for perceptron_type in PERCEPTRON_TYPES:\n",
    "    subset = df[df[\"perceptron_type\"] == perceptron_type]\n",
    "    \n",
    "    plt.figure(figsize=(10, 6))\n",
    "\n",
    "    for learning_rate in subset[\"learning_rate\"].unique():\n",
    "        lr_subset = subset[subset[\"learning_rate\"] == learning_rate]\n",
    "        plt.plot(lr_subset[\"epochs\"], lr_subset[\"mse\"], label=\"Learning rate: \" + str(learning_rate))\n",
    "\n",
    "\n",
    "    plt.yticks(range(10, 61, 10))\n",
    "    plt.xlabel('Épocas')\n",
    "    plt.ylabel('Error cuadrático medio')\n",
    "    plt.title(f'Error en función de la época para \"{perceptron_type}\" (Agrupado por learning rate)')\n",
    "    plt.legend(title='learning rate')\n",
    "\n",
    "\n",
    "    plt.grid(True)\n",
    "    plt.show()"
   ]
  },
  {
   "cell_type": "markdown",
   "metadata": {},
   "source": [
    "### Set de gráficos 2\n",
    "\n",
    "Luego, analizar que pasa variando el training_percentage (0.2, 0.3, 0.4, 0.5, 0.6, 0.7, 0.8, 0.9) para los diferentes tipos de perceptrones. Y de esta forma encontrar la mejor configuración para optimizar la capacidad de generalización del modelo.\n",
    "\n",
    "Para ello, graficamos el error en función de la cantidad de épocas para cada configuración."
   ]
  },
  {
   "cell_type": "code",
   "execution_count": null,
   "metadata": {},
   "outputs": [],
   "source": [
    "repeats = 10\n",
    "\n",
    "result_list = []\n",
    "\n",
    "for perceptron_type in PERCEPTRON_TYPES:\n",
    "    configCopy = copy(config)\n",
    "    configCopy[\"perceptron_type\"] = perceptron_type\n",
    "\n",
    "    for tp in [0.2, 0.3, 0.4, 0.5, 0.6, 0.7, 0.8, 0.9]:\n",
    "        configCopy[\"training_percentage\"] = tp\n",
    "\n",
    "        for run in range(1, repeats+1):\n",
    "            print(\"Running perceptron type: \" + perceptron_type + \" run: \" + str(run + 1))\n",
    "            mse, epochs = run_main(configCopy)\n",
    "            result_list.append({\n",
    "            \"perceptron_type\": perceptron_type,\n",
    "            \"training_percentage\": tp,\n",
    "            \"mse\": mse,\n",
    "            \"epochs\": epochs\n",
    "        })\n",
    "            \n",
    "df2 = pd.DataFrame(result_list)"
   ]
  },
  {
   "cell_type": "code",
   "execution_count": null,
   "metadata": {},
   "outputs": [],
   "source": [
    "for perceptron_type in PERCEPTRON_TYPES:\n",
    "    subset = df[df[\"perceptron_type\"] == perceptron_type]\n",
    "    \n",
    "    plt.figure(figsize=(10, 6))\n",
    "\n",
    "    for tp in subset[\"training_percentage\"].unique():\n",
    "        tp_subset = subset[subset[\"training_percentage\"] == tp]\n",
    "        plt.plot(tp_subset[\"epochs\"], tp_subset[\"mse\"], label=\"Training percentage: \" + str(tp))\n",
    "\n",
    "\n",
    "    plt.yticks(range(10, 61, 10))\n",
    "    plt.xlabel('Épocas')\n",
    "    plt.ylabel('Error cuadrático medio')\n",
    "    plt.title(f'Error en función de la época para \"{perceptron_type}\" (Agrupado por training percentage)')\n",
    "    plt.legend(title='training percentage')\n",
    "\n",
    "\n",
    "    plt.grid(True)\n",
    "    plt.show()"
   ]
  }
 ],
 "metadata": {
  "kernelspec": {
   "display_name": "Python 3",
   "language": "python",
   "name": "python3"
  },
  "language_info": {
   "name": "python",
   "version": "3.9.6"
  },
  "orig_nbformat": 4
 },
 "nbformat": 4,
 "nbformat_minor": 2
}
